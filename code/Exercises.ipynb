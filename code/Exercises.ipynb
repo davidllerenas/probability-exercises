{
 "cells": [
  {
   "cell_type": "markdown",
   "metadata": {},
   "source": [
    "Example 2.3.a"
   ]
  },
  {
   "cell_type": "code",
   "execution_count": 24,
   "metadata": {},
   "outputs": [
    {
     "name": "stdout",
     "output_type": "stream",
     "text": [
      "279.2\n"
     ]
    }
   ],
   "source": [
    "def nameof(var, local_vars):\n",
    "    return [name for name, value in local_vars.items() if value is var].pop()\n",
    "\n",
    "\n",
    "def Mean(data: list[float]) -> float:\n",
    "    return sum(data)/len(data)\n",
    "\n",
    "print(Mean([280, 278, 272, 276, 281, 279, 276, 281, 289, 280]))"
   ]
  },
  {
   "cell_type": "code",
   "execution_count": 18,
   "metadata": {},
   "outputs": [
    {
     "name": "stdout",
     "output_type": "stream",
     "text": [
      "18.24074074074074\n",
      "18.24074074074074\n"
     ]
    }
   ],
   "source": [
    "def DotProduct(v1: list[float], v2: list[float]) -> float:\n",
    "    if len(v1) != len(v2):\n",
    "        raise SyntaxError(\"Lists must be of equal length.\")\n",
    "    \n",
    "    result = 0\n",
    "    for i in range(len(v1)):\n",
    "        result += v1[i] * v2[i]\n",
    "    return result\n",
    "\n",
    "def WeighedAverage(data: list[tuple[float, float]]) -> float:\n",
    "    v1 = [v[0] for v in data]\n",
    "    v2 = [v[1] for v in data]\n",
    "    return DotProduct(v1, v2)/sum(v2)\n",
    "\n",
    "def WeighedMean(values: list[float], frequencies: list[float]) -> float:\n",
    "    if len(values) != len(frequencies):\n",
    "        raise SyntaxError(\"Lists must be of equal length\")\n",
    "    return DotProduct(values, frequencies)/sum(frequencies)\n",
    "\n",
    "print (WeighedMean([15, 16, 17, 18, 19, 20], [2, 5, 11, 9, 14, 13]))\n",
    "print(WeighedAverage([(15, 2), (16, 5), (17, 11), (18, 9), (19, 14), (20, 13)]))"
   ]
  },
  {
   "cell_type": "code",
   "execution_count": 28,
   "metadata": {},
   "outputs": [
    {
     "name": "stdout",
     "output_type": "stream",
     "text": [
      "mean for germ_free_mice:  344.0689655172414\n",
      "median for germ_free_mice:  259.0\n",
      "mean for conventional_mice:  292.3157894736842\n",
      "median for conventional_mice:  265.0\n"
     ]
    }
   ],
   "source": [
    "def Median(data: list[float]) -> float:\n",
    "    data.sort()\n",
    "    length = len(data)\n",
    "    if length%2 == 1:\n",
    "        return data[length//2]\n",
    "    else:\n",
    "        return (data[length//2] + data[length//2 - 1])/2\n",
    "\n",
    "def StemLeafToList(stemleaf: dict[int, list[str]]) -> list[float]:\n",
    "    return [float(str(k) + i) for k, v in stemleaf.items() for i in v]\n",
    "\n",
    "def StemLeafMedian(stemleaf: dict[int, list[str]]) -> float:\n",
    "    return Median(StemLeafToList(stemleaf))\n",
    "\n",
    "def StemLeafMean(stemleaf: dict[int, list[str]]) -> float:\n",
    "    return Mean(StemLeafToList(stemleaf))\n",
    "\n",
    "germ_free_mice = { \n",
    "    1: [\"58\", \"92\", \"93\", \"94\", \"95\"], \n",
    "    2: [\"02\", \"12\", \"15\", \"29\", \"30\", \"37\", \"40\", \"44\", \"47\", \"59\"], \n",
    "    3: [\"01\", \"01\", \"21\", \"37\"], \n",
    "    4: [\"15\", \"34\", \"44\", \"85\", \"96\"], \n",
    "    5: [\"29\", \"37\"], \n",
    "    6: [\"24\"], \n",
    "    7: [\"07\"], \n",
    "    8: [\"00\"]\n",
    "}\n",
    "conventional_mice = {\n",
    "    1: [\"59\", \"89\", \"91\", \"98\"],\n",
    "    2: [\"35\", \"45\", \"50\", \"56\", \"61\", \"65\", \"66\", \"80\"],\n",
    "    3: [\"43\", \"56\", \"83\"],\n",
    "    4: [\"03\", \"14\", \"28\", \"32\"]\n",
    "}\n",
    "\n",
    "print(\"mean for \" + nameof(germ_free_mice, locals()) + \": \", StemLeafMean(germ_free_mice))\n",
    "print(\"median for \" + nameof(germ_free_mice, locals()) + \": \", StemLeafMedian(germ_free_mice))\n",
    "print(\"mean for \" + nameof(conventional_mice, locals()) + \": \", StemLeafMean(conventional_mice))\n",
    "print(\"median for \" + nameof(conventional_mice, locals()) + \": \", StemLeafMedian(conventional_mice))"
   ]
  },
  {
   "cell_type": "code",
   "execution_count": 49,
   "metadata": {},
   "outputs": [
    {
     "name": "stdout",
     "output_type": "stream",
     "text": [
      "1\n"
     ]
    }
   ],
   "source": [
    "def Mode(data: list[float]) -> float:\n",
    "    return max(set(data), key = data.count)\n",
    "\n",
    "def ValueFrequencyMode(data: list[tuple[float, int]]) -> float:\n",
    "    for value, freq in data:\n",
    "        if freq == max(data, key = lambda x: x[1])[1]:\n",
    "            return value\n",
    "\n",
    "def ValueFrequencyListToList(data: list[tuple[float, int]]) -> list[float]:\n",
    "    return [v for value, freq in data for v in [value] * freq]\n",
    "\n",
    "print(ValueFrequencyMode([(1, 9), (2, 8), (3, 5), (4, 5), (5, 6), (6, 7)]))"
   ]
  },
  {
   "cell_type": "code",
   "execution_count": 52,
   "metadata": {},
   "outputs": [
    {
     "name": "stdout",
     "output_type": "stream",
     "text": [
      "7.5\n",
      "360.6666666666667\n"
     ]
    }
   ],
   "source": [
    "def Variance (data: list[float]) -> float:\n",
    "    mean = Mean(data)\n",
    "    return sum((x - mean)**2 for x in data)/(len(data)-1)\n",
    "\n",
    "print(Variance([3, 4, 6, 7, 10]))\n",
    "print(Variance([-20, 5, 15, 24]))"
   ]
  },
  {
   "cell_type": "code",
   "execution_count": 54,
   "metadata": {},
   "outputs": [
    {
     "name": "stdout",
     "output_type": "stream",
     "text": [
      "2.7386127875258306\n",
      "18.991226044325487\n"
     ]
    }
   ],
   "source": [
    "import math\n",
    "\n",
    "def StandardDeviation (data: list[float]) -> float:\n",
    "    return math.sqrt(Variance(data))\n",
    "\n",
    "print(StandardDeviation([3, 4, 6, 7, 10]))\n",
    "print(StandardDeviation([-20, 5, 15, 24]))"
   ]
  },
  {
   "cell_type": "code",
   "execution_count": null,
   "metadata": {},
   "outputs": [],
   "source": []
  }
 ],
 "metadata": {
  "kernelspec": {
   "display_name": "Python 3",
   "language": "python",
   "name": "python3"
  },
  "language_info": {
   "codemirror_mode": {
    "name": "ipython",
    "version": 3
   },
   "file_extension": ".py",
   "mimetype": "text/x-python",
   "name": "python",
   "nbconvert_exporter": "python",
   "pygments_lexer": "ipython3",
   "version": "3.12.2"
  }
 },
 "nbformat": 4,
 "nbformat_minor": 2
}
